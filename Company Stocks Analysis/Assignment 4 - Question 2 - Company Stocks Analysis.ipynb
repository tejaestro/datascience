{
 "cells": [
  {
   "cell_type": "markdown",
   "metadata": {},
   "source": [
    "## Company Stocks Analysis"
   ]
  },
  {
   "cell_type": "code",
   "execution_count": 25,
   "metadata": {},
   "outputs": [],
   "source": [
    "import pandas as pd\n",
    "\n",
    "from sklearn.preprocessing import StandardScaler\n",
    "from sklearn.cluster import KMeans\n",
    "\n",
    "import matplotlib.pyplot as plt\n",
    "%matplotlib inline"
   ]
  },
  {
   "cell_type": "markdown",
   "metadata": {},
   "source": [
    "Importing dataset"
   ]
  },
  {
   "cell_type": "code",
   "execution_count": 7,
   "metadata": {},
   "outputs": [],
   "source": [
    "stocks_data = pd.read_csv(\"company_stocks.csv\")"
   ]
  },
  {
   "cell_type": "code",
   "execution_count": 8,
   "metadata": {},
   "outputs": [
    {
     "data": {
      "text/html": [
       "<div>\n",
       "<style scoped>\n",
       "    .dataframe tbody tr th:only-of-type {\n",
       "        vertical-align: middle;\n",
       "    }\n",
       "\n",
       "    .dataframe tbody tr th {\n",
       "        vertical-align: top;\n",
       "    }\n",
       "\n",
       "    .dataframe thead th {\n",
       "        text-align: right;\n",
       "    }\n",
       "</style>\n",
       "<table border=\"1\" class=\"dataframe\">\n",
       "  <thead>\n",
       "    <tr style=\"text-align: right;\">\n",
       "      <th></th>\n",
       "      <th>Unnamed: 0</th>\n",
       "      <th>2010-01-04</th>\n",
       "      <th>2010-01-05</th>\n",
       "      <th>2010-01-06</th>\n",
       "      <th>2010-01-07</th>\n",
       "      <th>2010-01-08</th>\n",
       "      <th>2010-01-11</th>\n",
       "      <th>2010-01-12</th>\n",
       "      <th>2010-01-13</th>\n",
       "      <th>2010-01-14</th>\n",
       "      <th>...</th>\n",
       "      <th>2013-10-16</th>\n",
       "      <th>2013-10-17</th>\n",
       "      <th>2013-10-18</th>\n",
       "      <th>2013-10-21</th>\n",
       "      <th>2013-10-22</th>\n",
       "      <th>2013-10-23</th>\n",
       "      <th>2013-10-24</th>\n",
       "      <th>2013-10-25</th>\n",
       "      <th>2013-10-28</th>\n",
       "      <th>2013-10-29</th>\n",
       "    </tr>\n",
       "  </thead>\n",
       "  <tbody>\n",
       "    <tr>\n",
       "      <th>0</th>\n",
       "      <td>AIG</td>\n",
       "      <td>-0.640002</td>\n",
       "      <td>-0.650000</td>\n",
       "      <td>-0.210001</td>\n",
       "      <td>-0.420000</td>\n",
       "      <td>0.710001</td>\n",
       "      <td>-0.200001</td>\n",
       "      <td>-1.130001</td>\n",
       "      <td>0.069999</td>\n",
       "      <td>-0.119999</td>\n",
       "      <td>...</td>\n",
       "      <td>0.919998</td>\n",
       "      <td>0.709999</td>\n",
       "      <td>0.119999</td>\n",
       "      <td>-0.480000</td>\n",
       "      <td>0.010002</td>\n",
       "      <td>-0.279998</td>\n",
       "      <td>-0.190003</td>\n",
       "      <td>-0.040001</td>\n",
       "      <td>-0.400002</td>\n",
       "      <td>0.660000</td>\n",
       "    </tr>\n",
       "    <tr>\n",
       "      <th>1</th>\n",
       "      <td>American express</td>\n",
       "      <td>0.109997</td>\n",
       "      <td>0.000000</td>\n",
       "      <td>0.260002</td>\n",
       "      <td>0.720002</td>\n",
       "      <td>0.190003</td>\n",
       "      <td>-0.270001</td>\n",
       "      <td>0.750000</td>\n",
       "      <td>0.300004</td>\n",
       "      <td>0.639999</td>\n",
       "      <td>...</td>\n",
       "      <td>0.680001</td>\n",
       "      <td>2.290001</td>\n",
       "      <td>0.409996</td>\n",
       "      <td>-0.069999</td>\n",
       "      <td>0.100006</td>\n",
       "      <td>0.069999</td>\n",
       "      <td>0.130005</td>\n",
       "      <td>1.849999</td>\n",
       "      <td>0.040001</td>\n",
       "      <td>0.540001</td>\n",
       "    </tr>\n",
       "    <tr>\n",
       "      <th>2</th>\n",
       "      <td>Boeing</td>\n",
       "      <td>0.459999</td>\n",
       "      <td>1.770000</td>\n",
       "      <td>1.549999</td>\n",
       "      <td>2.690003</td>\n",
       "      <td>0.059997</td>\n",
       "      <td>-1.080002</td>\n",
       "      <td>0.360000</td>\n",
       "      <td>0.549999</td>\n",
       "      <td>0.530002</td>\n",
       "      <td>...</td>\n",
       "      <td>1.559997</td>\n",
       "      <td>2.480003</td>\n",
       "      <td>0.019997</td>\n",
       "      <td>-1.220001</td>\n",
       "      <td>0.480003</td>\n",
       "      <td>3.020004</td>\n",
       "      <td>-0.029999</td>\n",
       "      <td>1.940002</td>\n",
       "      <td>1.130005</td>\n",
       "      <td>0.309998</td>\n",
       "    </tr>\n",
       "    <tr>\n",
       "      <th>3</th>\n",
       "      <td>Bank of America</td>\n",
       "      <td>0.450000</td>\n",
       "      <td>0.460001</td>\n",
       "      <td>0.180000</td>\n",
       "      <td>0.250000</td>\n",
       "      <td>-0.199999</td>\n",
       "      <td>-0.060000</td>\n",
       "      <td>-0.359998</td>\n",
       "      <td>0.190001</td>\n",
       "      <td>0.190001</td>\n",
       "      <td>...</td>\n",
       "      <td>0.240000</td>\n",
       "      <td>0.210000</td>\n",
       "      <td>-0.050000</td>\n",
       "      <td>-0.010000</td>\n",
       "      <td>-0.030000</td>\n",
       "      <td>-0.240000</td>\n",
       "      <td>0.050000</td>\n",
       "      <td>0.110000</td>\n",
       "      <td>-0.060000</td>\n",
       "      <td>-0.110000</td>\n",
       "    </tr>\n",
       "    <tr>\n",
       "      <th>4</th>\n",
       "      <td>Canon</td>\n",
       "      <td>0.730000</td>\n",
       "      <td>0.369999</td>\n",
       "      <td>-0.099999</td>\n",
       "      <td>-0.169999</td>\n",
       "      <td>0.030003</td>\n",
       "      <td>0.110001</td>\n",
       "      <td>-0.079998</td>\n",
       "      <td>0.140000</td>\n",
       "      <td>0.389999</td>\n",
       "      <td>...</td>\n",
       "      <td>0.209999</td>\n",
       "      <td>0.560002</td>\n",
       "      <td>0.069999</td>\n",
       "      <td>0.119999</td>\n",
       "      <td>0.050003</td>\n",
       "      <td>-0.459999</td>\n",
       "      <td>0.259998</td>\n",
       "      <td>-0.109999</td>\n",
       "      <td>0.090001</td>\n",
       "      <td>-0.110001</td>\n",
       "    </tr>\n",
       "  </tbody>\n",
       "</table>\n",
       "<p>5 rows × 964 columns</p>\n",
       "</div>"
      ],
      "text/plain": [
       "         Unnamed: 0  2010-01-04  2010-01-05  2010-01-06  2010-01-07  \\\n",
       "0               AIG   -0.640002   -0.650000   -0.210001   -0.420000   \n",
       "1  American express    0.109997    0.000000    0.260002    0.720002   \n",
       "2            Boeing    0.459999    1.770000    1.549999    2.690003   \n",
       "3   Bank of America    0.450000    0.460001    0.180000    0.250000   \n",
       "4             Canon    0.730000    0.369999   -0.099999   -0.169999   \n",
       "\n",
       "   2010-01-08  2010-01-11  2010-01-12  2010-01-13  2010-01-14     ...      \\\n",
       "0    0.710001   -0.200001   -1.130001    0.069999   -0.119999     ...       \n",
       "1    0.190003   -0.270001    0.750000    0.300004    0.639999     ...       \n",
       "2    0.059997   -1.080002    0.360000    0.549999    0.530002     ...       \n",
       "3   -0.199999   -0.060000   -0.359998    0.190001    0.190001     ...       \n",
       "4    0.030003    0.110001   -0.079998    0.140000    0.389999     ...       \n",
       "\n",
       "   2013-10-16  2013-10-17  2013-10-18  2013-10-21  2013-10-22  2013-10-23  \\\n",
       "0    0.919998    0.709999    0.119999   -0.480000    0.010002   -0.279998   \n",
       "1    0.680001    2.290001    0.409996   -0.069999    0.100006    0.069999   \n",
       "2    1.559997    2.480003    0.019997   -1.220001    0.480003    3.020004   \n",
       "3    0.240000    0.210000   -0.050000   -0.010000   -0.030000   -0.240000   \n",
       "4    0.209999    0.560002    0.069999    0.119999    0.050003   -0.459999   \n",
       "\n",
       "   2013-10-24  2013-10-25  2013-10-28  2013-10-29  \n",
       "0   -0.190003   -0.040001   -0.400002    0.660000  \n",
       "1    0.130005    1.849999    0.040001    0.540001  \n",
       "2   -0.029999    1.940002    1.130005    0.309998  \n",
       "3    0.050000    0.110000   -0.060000   -0.110000  \n",
       "4    0.259998   -0.109999    0.090001   -0.110001  \n",
       "\n",
       "[5 rows x 964 columns]"
      ]
     },
     "execution_count": 8,
     "metadata": {},
     "output_type": "execute_result"
    }
   ],
   "source": [
    "stocks_data.head()"
   ]
  },
  {
   "cell_type": "markdown",
   "metadata": {},
   "source": [
    "Since our data doesn't have explicitly defined features, we'll have to create them before we proceed with the futher steps."
   ]
  },
  {
   "cell_type": "markdown",
   "metadata": {},
   "source": [
    "For this reason, we will create two features for each of these companies - Mean & Std. Dev.<br>\n",
    "This will help us cluster them better and give us a more understandable analysis."
   ]
  },
  {
   "cell_type": "code",
   "execution_count": 9,
   "metadata": {},
   "outputs": [],
   "source": [
    "stocks_data['Mean'] = stocks_data.mean(axis=1)"
   ]
  },
  {
   "cell_type": "code",
   "execution_count": 10,
   "metadata": {},
   "outputs": [],
   "source": [
    "stocks_data['Std_dev'] = stocks_data.std(axis=1)"
   ]
  },
  {
   "cell_type": "code",
   "execution_count": 11,
   "metadata": {},
   "outputs": [
    {
     "data": {
      "text/html": [
       "<div>\n",
       "<style scoped>\n",
       "    .dataframe tbody tr th:only-of-type {\n",
       "        vertical-align: middle;\n",
       "    }\n",
       "\n",
       "    .dataframe tbody tr th {\n",
       "        vertical-align: top;\n",
       "    }\n",
       "\n",
       "    .dataframe thead th {\n",
       "        text-align: right;\n",
       "    }\n",
       "</style>\n",
       "<table border=\"1\" class=\"dataframe\">\n",
       "  <thead>\n",
       "    <tr style=\"text-align: right;\">\n",
       "      <th></th>\n",
       "      <th>Unnamed: 0</th>\n",
       "      <th>2010-01-04</th>\n",
       "      <th>2010-01-05</th>\n",
       "      <th>2010-01-06</th>\n",
       "      <th>2010-01-07</th>\n",
       "      <th>2010-01-08</th>\n",
       "      <th>2010-01-11</th>\n",
       "      <th>2010-01-12</th>\n",
       "      <th>2010-01-13</th>\n",
       "      <th>2010-01-14</th>\n",
       "      <th>...</th>\n",
       "      <th>2013-10-18</th>\n",
       "      <th>2013-10-21</th>\n",
       "      <th>2013-10-22</th>\n",
       "      <th>2013-10-23</th>\n",
       "      <th>2013-10-24</th>\n",
       "      <th>2013-10-25</th>\n",
       "      <th>2013-10-28</th>\n",
       "      <th>2013-10-29</th>\n",
       "      <th>Mean</th>\n",
       "      <th>Std_dev</th>\n",
       "    </tr>\n",
       "  </thead>\n",
       "  <tbody>\n",
       "    <tr>\n",
       "      <th>0</th>\n",
       "      <td>AIG</td>\n",
       "      <td>-0.640002</td>\n",
       "      <td>-0.650000</td>\n",
       "      <td>-0.210001</td>\n",
       "      <td>-0.420000</td>\n",
       "      <td>0.710001</td>\n",
       "      <td>-0.200001</td>\n",
       "      <td>-1.130001</td>\n",
       "      <td>0.069999</td>\n",
       "      <td>-0.119999</td>\n",
       "      <td>...</td>\n",
       "      <td>0.119999</td>\n",
       "      <td>-0.480000</td>\n",
       "      <td>0.010002</td>\n",
       "      <td>-0.279998</td>\n",
       "      <td>-0.190003</td>\n",
       "      <td>-0.040001</td>\n",
       "      <td>-0.400002</td>\n",
       "      <td>0.660000</td>\n",
       "      <td>-0.016272</td>\n",
       "      <td>0.793241</td>\n",
       "    </tr>\n",
       "    <tr>\n",
       "      <th>1</th>\n",
       "      <td>American express</td>\n",
       "      <td>0.109997</td>\n",
       "      <td>0.000000</td>\n",
       "      <td>0.260002</td>\n",
       "      <td>0.720002</td>\n",
       "      <td>0.190003</td>\n",
       "      <td>-0.270001</td>\n",
       "      <td>0.750000</td>\n",
       "      <td>0.300004</td>\n",
       "      <td>0.639999</td>\n",
       "      <td>...</td>\n",
       "      <td>0.409996</td>\n",
       "      <td>-0.069999</td>\n",
       "      <td>0.100006</td>\n",
       "      <td>0.069999</td>\n",
       "      <td>0.130005</td>\n",
       "      <td>1.849999</td>\n",
       "      <td>0.040001</td>\n",
       "      <td>0.540001</td>\n",
       "      <td>0.044206</td>\n",
       "      <td>0.678429</td>\n",
       "    </tr>\n",
       "    <tr>\n",
       "      <th>2</th>\n",
       "      <td>Boeing</td>\n",
       "      <td>0.459999</td>\n",
       "      <td>1.770000</td>\n",
       "      <td>1.549999</td>\n",
       "      <td>2.690003</td>\n",
       "      <td>0.059997</td>\n",
       "      <td>-1.080002</td>\n",
       "      <td>0.360000</td>\n",
       "      <td>0.549999</td>\n",
       "      <td>0.530002</td>\n",
       "      <td>...</td>\n",
       "      <td>0.019997</td>\n",
       "      <td>-1.220001</td>\n",
       "      <td>0.480003</td>\n",
       "      <td>3.020004</td>\n",
       "      <td>-0.029999</td>\n",
       "      <td>1.940002</td>\n",
       "      <td>1.130005</td>\n",
       "      <td>0.309998</td>\n",
       "      <td>0.038733</td>\n",
       "      <td>0.946927</td>\n",
       "    </tr>\n",
       "    <tr>\n",
       "      <th>3</th>\n",
       "      <td>Bank of America</td>\n",
       "      <td>0.450000</td>\n",
       "      <td>0.460001</td>\n",
       "      <td>0.180000</td>\n",
       "      <td>0.250000</td>\n",
       "      <td>-0.199999</td>\n",
       "      <td>-0.060000</td>\n",
       "      <td>-0.359998</td>\n",
       "      <td>0.190001</td>\n",
       "      <td>0.190001</td>\n",
       "      <td>...</td>\n",
       "      <td>-0.050000</td>\n",
       "      <td>-0.010000</td>\n",
       "      <td>-0.030000</td>\n",
       "      <td>-0.240000</td>\n",
       "      <td>0.050000</td>\n",
       "      <td>0.110000</td>\n",
       "      <td>-0.060000</td>\n",
       "      <td>-0.110000</td>\n",
       "      <td>-0.019418</td>\n",
       "      <td>0.222972</td>\n",
       "    </tr>\n",
       "    <tr>\n",
       "      <th>4</th>\n",
       "      <td>Canon</td>\n",
       "      <td>0.730000</td>\n",
       "      <td>0.369999</td>\n",
       "      <td>-0.099999</td>\n",
       "      <td>-0.169999</td>\n",
       "      <td>0.030003</td>\n",
       "      <td>0.110001</td>\n",
       "      <td>-0.079998</td>\n",
       "      <td>0.140000</td>\n",
       "      <td>0.389999</td>\n",
       "      <td>...</td>\n",
       "      <td>0.069999</td>\n",
       "      <td>0.119999</td>\n",
       "      <td>0.050003</td>\n",
       "      <td>-0.459999</td>\n",
       "      <td>0.259998</td>\n",
       "      <td>-0.109999</td>\n",
       "      <td>0.090001</td>\n",
       "      <td>-0.110001</td>\n",
       "      <td>0.012700</td>\n",
       "      <td>0.362410</td>\n",
       "    </tr>\n",
       "  </tbody>\n",
       "</table>\n",
       "<p>5 rows × 966 columns</p>\n",
       "</div>"
      ],
      "text/plain": [
       "         Unnamed: 0  2010-01-04  2010-01-05  2010-01-06  2010-01-07  \\\n",
       "0               AIG   -0.640002   -0.650000   -0.210001   -0.420000   \n",
       "1  American express    0.109997    0.000000    0.260002    0.720002   \n",
       "2            Boeing    0.459999    1.770000    1.549999    2.690003   \n",
       "3   Bank of America    0.450000    0.460001    0.180000    0.250000   \n",
       "4             Canon    0.730000    0.369999   -0.099999   -0.169999   \n",
       "\n",
       "   2010-01-08  2010-01-11  2010-01-12  2010-01-13  2010-01-14    ...     \\\n",
       "0    0.710001   -0.200001   -1.130001    0.069999   -0.119999    ...      \n",
       "1    0.190003   -0.270001    0.750000    0.300004    0.639999    ...      \n",
       "2    0.059997   -1.080002    0.360000    0.549999    0.530002    ...      \n",
       "3   -0.199999   -0.060000   -0.359998    0.190001    0.190001    ...      \n",
       "4    0.030003    0.110001   -0.079998    0.140000    0.389999    ...      \n",
       "\n",
       "   2013-10-18  2013-10-21  2013-10-22  2013-10-23  2013-10-24  2013-10-25  \\\n",
       "0    0.119999   -0.480000    0.010002   -0.279998   -0.190003   -0.040001   \n",
       "1    0.409996   -0.069999    0.100006    0.069999    0.130005    1.849999   \n",
       "2    0.019997   -1.220001    0.480003    3.020004   -0.029999    1.940002   \n",
       "3   -0.050000   -0.010000   -0.030000   -0.240000    0.050000    0.110000   \n",
       "4    0.069999    0.119999    0.050003   -0.459999    0.259998   -0.109999   \n",
       "\n",
       "   2013-10-28  2013-10-29      Mean   Std_dev  \n",
       "0   -0.400002    0.660000 -0.016272  0.793241  \n",
       "1    0.040001    0.540001  0.044206  0.678429  \n",
       "2    1.130005    0.309998  0.038733  0.946927  \n",
       "3   -0.060000   -0.110000 -0.019418  0.222972  \n",
       "4    0.090001   -0.110001  0.012700  0.362410  \n",
       "\n",
       "[5 rows x 966 columns]"
      ]
     },
     "execution_count": 11,
     "metadata": {},
     "output_type": "execute_result"
    }
   ],
   "source": [
    "stocks_data.head()"
   ]
  },
  {
   "cell_type": "markdown",
   "metadata": {},
   "source": [
    "Let's create a new data frame with only the company names, their means and standard deviations."
   ]
  },
  {
   "cell_type": "code",
   "execution_count": 12,
   "metadata": {},
   "outputs": [
    {
     "data": {
      "text/plain": [
       "Index(['Unnamed: 0', '2010-01-04', '2010-01-05', '2010-01-06', '2010-01-07',\n",
       "       '2010-01-08', '2010-01-11', '2010-01-12', '2010-01-13', '2010-01-14',\n",
       "       ...\n",
       "       '2013-10-18', '2013-10-21', '2013-10-22', '2013-10-23', '2013-10-24',\n",
       "       '2013-10-25', '2013-10-28', '2013-10-29', 'Mean', 'Std_dev'],\n",
       "      dtype='object', length=966)"
      ]
     },
     "execution_count": 12,
     "metadata": {},
     "output_type": "execute_result"
    }
   ],
   "source": [
    "stocks_data.columns"
   ]
  },
  {
   "cell_type": "code",
   "execution_count": 13,
   "metadata": {},
   "outputs": [],
   "source": [
    "stocks_data.rename(columns = {'Unnamed: 0':'Company'}, inplace = True)"
   ]
  },
  {
   "cell_type": "code",
   "execution_count": 14,
   "metadata": {},
   "outputs": [
    {
     "data": {
      "text/plain": [
       "Index(['Company', '2010-01-04', '2010-01-05', '2010-01-06', '2010-01-07',\n",
       "       '2010-01-08', '2010-01-11', '2010-01-12', '2010-01-13', '2010-01-14',\n",
       "       ...\n",
       "       '2013-10-18', '2013-10-21', '2013-10-22', '2013-10-23', '2013-10-24',\n",
       "       '2013-10-25', '2013-10-28', '2013-10-29', 'Mean', 'Std_dev'],\n",
       "      dtype='object', length=966)"
      ]
     },
     "execution_count": 14,
     "metadata": {},
     "output_type": "execute_result"
    }
   ],
   "source": [
    "stocks_data.columns"
   ]
  },
  {
   "cell_type": "code",
   "execution_count": 15,
   "metadata": {},
   "outputs": [],
   "source": [
    "new_stocks_data = stocks_data.filter(items=['Company', 'Mean', 'Std_dev'])"
   ]
  },
  {
   "cell_type": "code",
   "execution_count": 16,
   "metadata": {},
   "outputs": [
    {
     "data": {
      "text/html": [
       "<div>\n",
       "<style scoped>\n",
       "    .dataframe tbody tr th:only-of-type {\n",
       "        vertical-align: middle;\n",
       "    }\n",
       "\n",
       "    .dataframe tbody tr th {\n",
       "        vertical-align: top;\n",
       "    }\n",
       "\n",
       "    .dataframe thead th {\n",
       "        text-align: right;\n",
       "    }\n",
       "</style>\n",
       "<table border=\"1\" class=\"dataframe\">\n",
       "  <thead>\n",
       "    <tr style=\"text-align: right;\">\n",
       "      <th></th>\n",
       "      <th>Company</th>\n",
       "      <th>Mean</th>\n",
       "      <th>Std_dev</th>\n",
       "    </tr>\n",
       "  </thead>\n",
       "  <tbody>\n",
       "    <tr>\n",
       "      <th>0</th>\n",
       "      <td>AIG</td>\n",
       "      <td>-0.016272</td>\n",
       "      <td>0.793241</td>\n",
       "    </tr>\n",
       "    <tr>\n",
       "      <th>1</th>\n",
       "      <td>American express</td>\n",
       "      <td>0.044206</td>\n",
       "      <td>0.678429</td>\n",
       "    </tr>\n",
       "    <tr>\n",
       "      <th>2</th>\n",
       "      <td>Boeing</td>\n",
       "      <td>0.038733</td>\n",
       "      <td>0.946927</td>\n",
       "    </tr>\n",
       "    <tr>\n",
       "      <th>3</th>\n",
       "      <td>Bank of America</td>\n",
       "      <td>-0.019418</td>\n",
       "      <td>0.222972</td>\n",
       "    </tr>\n",
       "    <tr>\n",
       "      <th>4</th>\n",
       "      <td>Canon</td>\n",
       "      <td>0.012700</td>\n",
       "      <td>0.362410</td>\n",
       "    </tr>\n",
       "  </tbody>\n",
       "</table>\n",
       "</div>"
      ],
      "text/plain": [
       "            Company      Mean   Std_dev\n",
       "0               AIG -0.016272  0.793241\n",
       "1  American express  0.044206  0.678429\n",
       "2            Boeing  0.038733  0.946927\n",
       "3   Bank of America -0.019418  0.222972\n",
       "4             Canon  0.012700  0.362410"
      ]
     },
     "execution_count": 16,
     "metadata": {},
     "output_type": "execute_result"
    }
   ],
   "source": [
    "new_stocks_data.head()"
   ]
  },
  {
   "cell_type": "code",
   "execution_count": 17,
   "metadata": {},
   "outputs": [],
   "source": [
    "new_stocks_data.set_index('Company', inplace=True)"
   ]
  },
  {
   "cell_type": "code",
   "execution_count": 18,
   "metadata": {},
   "outputs": [
    {
     "data": {
      "text/html": [
       "<div>\n",
       "<style scoped>\n",
       "    .dataframe tbody tr th:only-of-type {\n",
       "        vertical-align: middle;\n",
       "    }\n",
       "\n",
       "    .dataframe tbody tr th {\n",
       "        vertical-align: top;\n",
       "    }\n",
       "\n",
       "    .dataframe thead th {\n",
       "        text-align: right;\n",
       "    }\n",
       "</style>\n",
       "<table border=\"1\" class=\"dataframe\">\n",
       "  <thead>\n",
       "    <tr style=\"text-align: right;\">\n",
       "      <th></th>\n",
       "      <th>Mean</th>\n",
       "      <th>Std_dev</th>\n",
       "    </tr>\n",
       "    <tr>\n",
       "      <th>Company</th>\n",
       "      <th></th>\n",
       "      <th></th>\n",
       "    </tr>\n",
       "  </thead>\n",
       "  <tbody>\n",
       "    <tr>\n",
       "      <th>AIG</th>\n",
       "      <td>-0.016272</td>\n",
       "      <td>0.793241</td>\n",
       "    </tr>\n",
       "    <tr>\n",
       "      <th>American express</th>\n",
       "      <td>0.044206</td>\n",
       "      <td>0.678429</td>\n",
       "    </tr>\n",
       "    <tr>\n",
       "      <th>Boeing</th>\n",
       "      <td>0.038733</td>\n",
       "      <td>0.946927</td>\n",
       "    </tr>\n",
       "    <tr>\n",
       "      <th>Bank of America</th>\n",
       "      <td>-0.019418</td>\n",
       "      <td>0.222972</td>\n",
       "    </tr>\n",
       "    <tr>\n",
       "      <th>Canon</th>\n",
       "      <td>0.012700</td>\n",
       "      <td>0.362410</td>\n",
       "    </tr>\n",
       "  </tbody>\n",
       "</table>\n",
       "</div>"
      ],
      "text/plain": [
       "                      Mean   Std_dev\n",
       "Company                             \n",
       "AIG              -0.016272  0.793241\n",
       "American express  0.044206  0.678429\n",
       "Boeing            0.038733  0.946927\n",
       "Bank of America  -0.019418  0.222972\n",
       "Canon             0.012700  0.362410"
      ]
     },
     "execution_count": 18,
     "metadata": {},
     "output_type": "execute_result"
    }
   ],
   "source": [
    "new_stocks_data.head()"
   ]
  },
  {
   "cell_type": "markdown",
   "metadata": {},
   "source": [
    "### Feature Scaling"
   ]
  },
  {
   "cell_type": "markdown",
   "metadata": {},
   "source": [
    "using Standard Scaling"
   ]
  },
  {
   "cell_type": "code",
   "execution_count": 19,
   "metadata": {},
   "outputs": [],
   "source": [
    "from sklearn.preprocessing import StandardScaler"
   ]
  },
  {
   "cell_type": "code",
   "execution_count": 20,
   "metadata": {},
   "outputs": [],
   "source": [
    "std_scale = StandardScaler().fit(new_stocks_data)"
   ]
  },
  {
   "cell_type": "code",
   "execution_count": 21,
   "metadata": {},
   "outputs": [],
   "source": [
    "stocks_data_scaled = std_scale.transform(new_stocks_data)"
   ]
  },
  {
   "cell_type": "code",
   "execution_count": 22,
   "metadata": {},
   "outputs": [
    {
     "data": {
      "text/plain": [
       "array([[-1.4390052 ,  1.18306989],\n",
       "       [ 1.18623187,  0.74485799],\n",
       "       [ 0.94868666,  1.76965407],\n",
       "       [-1.5755844 , -0.99351556],\n",
       "       [-0.18138449, -0.46131128]])"
      ]
     },
     "execution_count": 22,
     "metadata": {},
     "output_type": "execute_result"
    }
   ],
   "source": [
    "stocks_data_scaled[:5,]"
   ]
  },
  {
   "cell_type": "markdown",
   "metadata": {},
   "source": [
    "### KMeans Clustering"
   ]
  },
  {
   "cell_type": "markdown",
   "metadata": {},
   "source": [
    "Running KMeans algorithm to find the optimal number of clusters using the elbow method"
   ]
  },
  {
   "cell_type": "code",
   "execution_count": 23,
   "metadata": {},
   "outputs": [],
   "source": [
    "ssq = []\n",
    "\n",
    "for k in range(1, 11):\n",
    "    kmeans_model = KMeans(n_clusters = k, random_state = 123)\n",
    "    kmeans_model.fit(stocks_data_scaled)\n",
    "    ssq.append(kmeans_model.inertia_)"
   ]
  },
  {
   "cell_type": "markdown",
   "metadata": {},
   "source": [
    "Generating Scree plot to visualise the elbow curve"
   ]
  },
  {
   "cell_type": "code",
   "execution_count": 26,
   "metadata": {},
   "outputs": [
    {
     "data": {
      "image/png": "[encoded data removed]",
      "text/plain": [
       "<Figure size 432x288 with 1 Axes>"
      ]
     },
     "metadata": {
      "needs_background": "light"
     },
     "output_type": "display_data"
    }
   ],
   "source": [
    "plt.plot(range(1,11), ssq, marker='o')\n",
    "plt.xlabel(\"Number of clusters\")\n",
    "plt.ylabel(\"Within-cluster SSQ\")\n",
    "plt.title(\"Scree Plot\")\n",
    "plt.show()"
   ]
  },
  {
   "cell_type": "markdown",
   "metadata": {},
   "source": [
    "#### Inference"
   ]
  },
  {
   "cell_type": "markdown",
   "metadata": {},
   "source": [
    "Looking at the elbow curve above, we can observe that the curve becomes more or less linear around 4.<br>\n",
    "Therefore, we pick the number we pick for clusters is 4."
   ]
  },
  {
   "cell_type": "markdown",
   "metadata": {},
   "source": [
    "Let's fit the KMeans model again with K=4"
   ]
  },
  {
   "cell_type": "code",
   "execution_count": 27,
   "metadata": {},
   "outputs": [],
   "source": [
    "kmodel = KMeans(n_clusters = 4, random_state = 123)"
   ]
  },
  {
   "cell_type": "code",
   "execution_count": 28,
   "metadata": {},
   "outputs": [
    {
     "data": {
      "text/plain": [
       "KMeans(algorithm='auto', copy_x=True, init='k-means++', max_iter=300,\n",
       "    n_clusters=4, n_init=10, n_jobs=1, precompute_distances='auto',\n",
       "    random_state=123, tol=0.0001, verbose=0)"
      ]
     },
     "execution_count": 28,
     "metadata": {},
     "output_type": "execute_result"
    }
   ],
   "source": [
    "kmodel.fit(stocks_data_scaled)"
   ]
  },
  {
   "cell_type": "markdown",
   "metadata": {},
   "source": [
    "<b>Calculating Silhouette Score</b>"
   ]
  },
  {
   "cell_type": "code",
   "execution_count": 34,
   "metadata": {},
   "outputs": [],
   "source": [
    "from sklearn import metrics"
   ]
  },
  {
   "cell_type": "code",
   "execution_count": 35,
   "metadata": {},
   "outputs": [],
   "source": [
    "kmeans_score = metrics.silhouette_score(stocks_data_scaled, kmodel.labels_)"
   ]
  },
  {
   "cell_type": "code",
   "execution_count": 36,
   "metadata": {},
   "outputs": [
    {
     "data": {
      "text/plain": [
       "0.41909866296499887"
      ]
     },
     "execution_count": 36,
     "metadata": {},
     "output_type": "execute_result"
    }
   ],
   "source": [
    "kmeans_score"
   ]
  },
  {
   "cell_type": "markdown",
   "metadata": {},
   "source": [
    "Since a the score of 0.419 isn't the most convincing one, let's refit the model with K=3."
   ]
  },
  {
   "cell_type": "code",
   "execution_count": 37,
   "metadata": {},
   "outputs": [],
   "source": [
    "kmodel2 = KMeans(n_clusters = 3, random_state = 123)"
   ]
  },
  {
   "cell_type": "code",
   "execution_count": 38,
   "metadata": {},
   "outputs": [
    {
     "data": {
      "text/plain": [
       "KMeans(algorithm='auto', copy_x=True, init='k-means++', max_iter=300,\n",
       "    n_clusters=3, n_init=10, n_jobs=1, precompute_distances='auto',\n",
       "    random_state=123, tol=0.0001, verbose=0)"
      ]
     },
     "execution_count": 38,
     "metadata": {},
     "output_type": "execute_result"
    }
   ],
   "source": [
    "kmodel2.fit(stocks_data_scaled)"
   ]
  },
  {
   "cell_type": "markdown",
   "metadata": {},
   "source": [
    "<b>Calculating Silhouette Score</b>"
   ]
  },
  {
   "cell_type": "code",
   "execution_count": 39,
   "metadata": {},
   "outputs": [],
   "source": [
    "kmeans2_score = metrics.silhouette_score(stocks_data_scaled, kmodel2.labels_)"
   ]
  },
  {
   "cell_type": "code",
   "execution_count": 40,
   "metadata": {},
   "outputs": [
    {
     "data": {
      "text/plain": [
       "0.5377310138328623"
      ]
     },
     "execution_count": 40,
     "metadata": {},
     "output_type": "execute_result"
    }
   ],
   "source": [
    "kmeans2_score"
   ]
  },
  {
   "cell_type": "markdown",
   "metadata": {},
   "source": [
    "We observe that the Silhouette Score is much better with K=3 than K=4. Therefore we'll pick 3 as the optimal number of clusters."
   ]
  },
  {
   "cell_type": "markdown",
   "metadata": {},
   "source": [
    "Make predictions for the clusters of the given dataset."
   ]
  },
  {
   "cell_type": "code",
   "execution_count": 41,
   "metadata": {},
   "outputs": [],
   "source": [
    "predicted_clusters = kmodel2.predict(stocks_data_scaled)"
   ]
  },
  {
   "cell_type": "code",
   "execution_count": 42,
   "metadata": {},
   "outputs": [
    {
     "data": {
      "text/plain": [
       "array([0, 2, 2, 1, 1], dtype=int32)"
      ]
     },
     "execution_count": 42,
     "metadata": {},
     "output_type": "execute_result"
    }
   ],
   "source": [
    "predicted_clusters[:5]"
   ]
  },
  {
   "cell_type": "markdown",
   "metadata": {},
   "source": [
    "Lets visualize the data partitioned into clusters."
   ]
  },
  {
   "cell_type": "code",
   "execution_count": 44,
   "metadata": {},
   "outputs": [
    {
     "data": {
      "image/png": "[encoded data removed]",
      "text/plain": [
       "<Figure size 432x288 with 1 Axes>"
      ]
     },
     "metadata": {
      "needs_background": "light"
     },
     "output_type": "display_data"
    }
   ],
   "source": [
    "plt.scatter(stocks_data_scaled[predicted_clusters==0,0], stocks_data_scaled[predicted_clusters==0,1],\\\n",
    "            s=50, c='lightgreen', marker='s', edgecolors='black', label='cluster 1')\n",
    "\n",
    "plt.scatter(stocks_data_scaled[predicted_clusters==1,0], stocks_data_scaled[predicted_clusters==1, 1],\\\n",
    "            s=50, c='orange',marker='o', edgecolors='black', label='cluster 2')\n",
    "\n",
    "plt.scatter(stocks_data_scaled[predicted_clusters==2,0], stocks_data_scaled[predicted_clusters==2, 1],\\\n",
    "            s=50, c='lightblue',marker='v', edgecolors='black', label='cluster 3')\n",
    "\n",
    "plt.scatter(kmodel2.cluster_centers_[:,0], kmodel2.cluster_centers_[:,1], s=250, c='red',\\\n",
    "           marker='*', edgecolors='black', label='centroids')\n",
    "\n",
    "plt.legend(scatterpoints=1)\n",
    "plt.xlabel(\"Mean\")\n",
    "plt.ylabel(\"Standard Deviation\")\n",
    "\n",
    "plt.title(\"Clustering Output\")\n",
    "plt.show()"
   ]
  },
  {
   "cell_type": "markdown",
   "metadata": {},
   "source": [
    "### Inference"
   ]
  },
  {
   "cell_type": "markdown",
   "metadata": {},
   "source": [
    "By observing the above clusters, we can make certain inferences of the stock's performance.<br>\n",
    "<b>Cluster 1</b> - High Standard Deviation with Negative Mean. These stocks must be completely avoided. Going by their mean value, we can safely assume that it'll take these stocks at least 3 quarters to show a positive turn around.<br>\n",
    "<b>Cluster 2</b> - Negative Standard Deviation with Negative Mean. These stocks should be watched. Since they're quite close to 0 or between 0 & -1 on both axes, there's a good chance that they might show a positive turn around within a quarter or two.<br>\n",
    "<b>Cluster 3</b> - Moderate Standard Deviation with High Positive Mean. INVEST! These stocks are in the positive scale and should be chosen for investment.<br>"
   ]
  },
  {
   "cell_type": "markdown",
   "metadata": {},
   "source": [
    "Accordingly, an analyst may conclude following labels for each cluster: <br>\n",
    "<b>Cluster 1</b> : Avoid<br>\n",
    "<b>Cluster 2</b> : Watch<br>\n",
    "<b>Cluster 3</b> : Invest<br>"
   ]
  },
  {
   "cell_type": "markdown",
   "metadata": {},
   "source": [
    "We can insert these labels back into our dataset."
   ]
  },
  {
   "cell_type": "code",
   "execution_count": 45,
   "metadata": {},
   "outputs": [],
   "source": [
    "import numpy as np\n",
    "predictions_relabelled = np.where(predicted_clusters==0, \"Avoid\", \\\n",
    "                                  np.where(predicted_clusters==1, \"Watch\", \"Invest\"))\n",
    "new_stocks_data['category'] = pd.Series(predictions_relabelled, index=new_stocks_data.index)"
   ]
  },
  {
   "cell_type": "code",
   "execution_count": 46,
   "metadata": {},
   "outputs": [
    {
     "data": {
      "text/html": [
       "<div>\n",
       "<style scoped>\n",
       "    .dataframe tbody tr th:only-of-type {\n",
       "        vertical-align: middle;\n",
       "    }\n",
       "\n",
       "    .dataframe tbody tr th {\n",
       "        vertical-align: top;\n",
       "    }\n",
       "\n",
       "    .dataframe thead th {\n",
       "        text-align: right;\n",
       "    }\n",
       "</style>\n",
       "<table border=\"1\" class=\"dataframe\">\n",
       "  <thead>\n",
       "    <tr style=\"text-align: right;\">\n",
       "      <th></th>\n",
       "      <th>Mean</th>\n",
       "      <th>Std_dev</th>\n",
       "      <th>category</th>\n",
       "    </tr>\n",
       "    <tr>\n",
       "      <th>Company</th>\n",
       "      <th></th>\n",
       "      <th></th>\n",
       "      <th></th>\n",
       "    </tr>\n",
       "  </thead>\n",
       "  <tbody>\n",
       "    <tr>\n",
       "      <th>AIG</th>\n",
       "      <td>-0.016272</td>\n",
       "      <td>0.793241</td>\n",
       "      <td>Avoid</td>\n",
       "    </tr>\n",
       "    <tr>\n",
       "      <th>American express</th>\n",
       "      <td>0.044206</td>\n",
       "      <td>0.678429</td>\n",
       "      <td>Invest</td>\n",
       "    </tr>\n",
       "    <tr>\n",
       "      <th>Boeing</th>\n",
       "      <td>0.038733</td>\n",
       "      <td>0.946927</td>\n",
       "      <td>Invest</td>\n",
       "    </tr>\n",
       "    <tr>\n",
       "      <th>Bank of America</th>\n",
       "      <td>-0.019418</td>\n",
       "      <td>0.222972</td>\n",
       "      <td>Watch</td>\n",
       "    </tr>\n",
       "    <tr>\n",
       "      <th>Canon</th>\n",
       "      <td>0.012700</td>\n",
       "      <td>0.362410</td>\n",
       "      <td>Watch</td>\n",
       "    </tr>\n",
       "  </tbody>\n",
       "</table>\n",
       "</div>"
      ],
      "text/plain": [
       "                      Mean   Std_dev category\n",
       "Company                                      \n",
       "AIG              -0.016272  0.793241    Avoid\n",
       "American express  0.044206  0.678429   Invest\n",
       "Boeing            0.038733  0.946927   Invest\n",
       "Bank of America  -0.019418  0.222972    Watch\n",
       "Canon             0.012700  0.362410    Watch"
      ]
     },
     "execution_count": 46,
     "metadata": {},
     "output_type": "execute_result"
    }
   ],
   "source": [
    "new_stocks_data.head()"
   ]
  }
 ],
 "metadata": {
  "kernelspec": {
   "display_name": "Python 3",
   "language": "python",
   "name": "python3"
  },
  "language_info": {
   "codemirror_mode": {
    "name": "ipython",
    "version": 3
   },
   "file_extension": ".py",
   "mimetype": "text/x-python",
   "name": "python",
   "nbconvert_exporter": "python",
   "pygments_lexer": "ipython3",
   "version": "3.7.0"
  }
 },
 "nbformat": 4,
 "nbformat_minor": 2
}
